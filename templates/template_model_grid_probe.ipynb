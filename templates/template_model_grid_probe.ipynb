{
 "cells": [
  {
   "cell_type": "markdown",
   "metadata": {},
   "source": [
    "# *Template*: Probing the coordinates of a model grid"
   ]
  },
  {
   "cell_type": "markdown",
   "metadata": {},
   "source": [
    "---"
   ]
  },
  {
   "cell_type": "markdown",
   "metadata": {},
   "source": [
    "## Overview\n",
    "The coordinate system that is computationally practical for model simulations is not always intuitive for the slicing and dicing required by analysis. \n",
    "\n",
    "1. Intuitive notion of spatial distributions in latitude-longitude coordinates \n",
    "1. Reality of model grids\n"
   ]
  },
  {
   "cell_type": "markdown",
   "metadata": {},
   "source": [
    "---"
   ]
  },
  {
   "cell_type": "markdown",
   "metadata": {},
   "source": [
    "## Imports"
   ]
  },
  {
   "cell_type": "code",
   "execution_count": 1,
   "metadata": {},
   "outputs": [],
   "source": [
    "%load_ext autoreload\n",
    "%autoreload 2\n",
    "\n",
    "import intake\n",
    "import numpy as np\n",
    "import xarray as xr\n",
    "\n",
    "import cftime\n",
    "\n",
    "import matplotlib.pyplot as plt\n",
    "import matplotlib as mpl\n",
    "from matplotlib import cm\n",
    "import matplotlib.gridspec as gridspec\n",
    "from matplotlib.ticker import FormatStrFormatter\n",
    "\n",
    "\n",
    "import cartopy.crs as ccrs\n",
    "import cartopy.feature as cfeature\n",
    "import cartopy.util as cutil\n",
    "\n",
    "import pyleoclim as pyleo"
   ]
  },
  {
   "cell_type": "markdown",
   "metadata": {},
   "source": [
    "## Load Data"
   ]
  },
  {
   "cell_type": "code",
   "execution_count": null,
   "metadata": {},
   "outputs": [],
   "source": [
    "file_path = #path\n",
    "ds = xr.open_dataset(file_path, use_cftime=True)\n",
    "ds"
   ]
  },
  {
   "cell_type": "markdown",
   "metadata": {},
   "source": [
    "## Unit Conversions\n",
    "Sometimes the units shipped with a dataset are not convenient. "
   ]
  },
  {
   "cell_type": "code",
   "execution_count": null,
   "metadata": {},
   "outputs": [],
   "source": [
    "orig_dim = #string\n",
    "new_dim = #string\n",
    "\n",
    "unit_conversion = #float\n",
    "ds=ds.assign(      =ds[orig_dim] * unit_conversion) #fill in the blank with the new_dim, but without the quotes denoting string\n",
    "ds = ds.swap_dims({orig_dim:new_dim}) "
   ]
  },
  {
   "cell_type": "markdown",
   "metadata": {},
   "source": [
    "### Example 1: depth"
   ]
  },
  {
   "cell_type": "code",
   "execution_count": null,
   "metadata": {},
   "outputs": [],
   "source": [
    "orig_dim = 'z_t' #string\n",
    "new_dim = 'z_t_m'#string\n",
    "\n",
    "depth_unit_conversion = 1/100\n",
    "ds = ds.assign(z_t_m=ds[orig_dim] * depth_unit_conversion) #note z_t_m=ds syntax\n",
    "ds = ds.swap_dims({orig_dim:new_dim})"
   ]
  },
  {
   "cell_type": "markdown",
   "metadata": {},
   "source": [
    "### Example 2: longitude"
   ]
  },
  {
   "cell_type": "code",
   "execution_count": null,
   "metadata": {},
   "outputs": [],
   "source": [
    "orig_dim = 'lon' #string\n",
    "new_dim = 'lon_360'#string\n",
    "\n",
    "ds = ds.assign(lon_360=ds[orig_dim] %360) #note lon_360=ds syntax\n",
    "ds = ds.swap_dims({orig_dim:new_dim})"
   ]
  },
  {
   "cell_type": "markdown",
   "metadata": {},
   "source": [
    "## Shape of Coordinates and Dimensions"
   ]
  },
  {
   "cell_type": "markdown",
   "metadata": {},
   "source": [
    "#### Coordinates"
   ]
  },
  {
   "cell_type": "code",
   "execution_count": null,
   "metadata": {},
   "outputs": [],
   "source": [
    "ds.coords"
   ]
  },
  {
   "cell_type": "code",
   "execution_count": null,
   "metadata": {},
   "outputs": [],
   "source": [
    "lat_coord = #string\n",
    "lon_coord = #string"
   ]
  },
  {
   "cell_type": "code",
   "execution_count": null,
   "metadata": {},
   "outputs": [],
   "source": [
    "'shape of latitude coordinate: {}'.format(ds.coords[lat_coord].shape)"
   ]
  },
  {
   "cell_type": "code",
   "execution_count": null,
   "metadata": {},
   "outputs": [],
   "source": [
    "'shape of longitude coordinate: {}'.format(ds.coords[lon_coord].shape)"
   ]
  },
  {
   "cell_type": "markdown",
   "metadata": {},
   "source": [
    "#### Dimensions"
   ]
  },
  {
   "cell_type": "code",
   "execution_count": null,
   "metadata": {},
   "outputs": [],
   "source": [
    "ds.dims"
   ]
  },
  {
   "cell_type": "markdown",
   "metadata": {},
   "source": [
    "If the latitude and longitude coordinates are vectors, and there are related dimensions such that:"
   ]
  },
  {
   "cell_type": "code",
   "execution_count": null,
   "metadata": {},
   "outputs": [],
   "source": [
    "ds.dims[lat_dim]==ds.coords[lat_coord].shape[0]"
   ]
  },
  {
   "cell_type": "markdown",
   "metadata": {},
   "source": [
    "Then working with this dataset should be spatially straightforward. You'll have full use of `.sel` for querying and will find it most straightforward to use `contourf` for distribution plots. "
   ]
  },
  {
   "cell_type": "markdown",
   "metadata": {},
   "source": [
    "## Data with latitude mesh and longitude mesh\n",
    "If the latitude and longitude coordinates are a 2D array, try the plot below to visualize the locations of the data."
   ]
  },
  {
   "cell_type": "code",
   "execution_count": null,
   "metadata": {},
   "outputs": [],
   "source": [
    "fig = plt.figure(figsize=(6,6))\n",
    "ax = fig.add_subplot()\n",
    "\n",
    "ax.scatter(ds.coords[lon_coord], ds.coords[lat_coord], s=.51);\n",
    "ax.set_xlabel(r'Longitude ($^{\\circ}$E)')\n",
    "ax.set_ylabel(r'Latitude ($^{\\circ}$N)')\n"
   ]
  },
  {
   "cell_type": "markdown",
   "metadata": {},
   "source": [
    "In order to plot a map, pick a variable of interest"
   ]
  },
  {
   "cell_type": "code",
   "execution_count": 272,
   "metadata": {},
   "outputs": [],
   "source": [
    "var = #string\n",
    "time = #float (if applicable)\n",
    "depth_dim = #string\n",
    "depth = #float (if applicable)"
   ]
  },
  {
   "cell_type": "code",
   "execution_count": 274,
   "metadata": {},
   "outputs": [],
   "source": [
    "snapshot_data = ds.sel(**{depth_dim:depth, 'time':time}, method='nearest')\n",
    "snapshot_data = snapshot_data[var].squeeze()\n",
    "snapshot_data = snapshot_data.compute()"
   ]
  },
  {
   "cell_type": "code",
   "execution_count": null,
   "metadata": {
    "tags": []
   },
   "outputs": [],
   "source": [
    "# plt.figure(figsize=(9,5));\n",
    "fig = plt.figure(figsize=(8, 4))\n",
    "\n",
    "# add subplot with specified map projection and coastlines (GeoAxes)\n",
    "ax2 = fig.add_subplot(projection=ccrs.Robinson(central_longitude=0))\n",
    "\n",
    "snapshot_data.plot.pcolormesh(ax=ax2, \n",
    "                                   transform=ccrs.PlateCarree(), \n",
    "                                   x=lon_coord, y=lat_coord, \n",
    "                                   levels=ax2_levels, \n",
    "                                  cmap='viridis', \n",
    "                                  add_colorbar=True);\n",
    "\n",
    "ax2.coastlines(linewidth=.5)\n",
    "ax2.add_feature(cfeature.LAND, zorder=14)\n"
   ]
  }
 ],
 "metadata": {
  "kernelspec": {
   "display_name": "Python [conda env:paleobook-dev]",
   "language": "python",
   "name": "conda-env-paleobook-dev-py"
  },
  "language_info": {
   "codemirror_mode": {
    "name": "ipython",
    "version": 3
   },
   "file_extension": ".py",
   "mimetype": "text/x-python",
   "name": "python",
   "nbconvert_exporter": "python",
   "pygments_lexer": "ipython3",
   "version": "3.10.10"
  },
  "nbdime-conflicts": {
   "local_diff": [
    {
     "diff": [
      {
       "diff": [
        {
         "key": 0,
         "op": "addrange",
         "valuelist": [
          "Python 3"
         ]
        },
        {
         "key": 0,
         "length": 1,
         "op": "removerange"
        }
       ],
       "key": "display_name",
       "op": "patch"
      }
     ],
     "key": "kernelspec",
     "op": "patch"
    }
   ],
   "remote_diff": [
    {
     "diff": [
      {
       "diff": [
        {
         "key": 0,
         "op": "addrange",
         "valuelist": [
          "Python3"
         ]
        },
        {
         "key": 0,
         "length": 1,
         "op": "removerange"
        }
       ],
       "key": "display_name",
       "op": "patch"
      }
     ],
     "key": "kernelspec",
     "op": "patch"
    }
   ]
  },
  "toc-autonumbering": false
 },
 "nbformat": 4,
 "nbformat_minor": 4
}
