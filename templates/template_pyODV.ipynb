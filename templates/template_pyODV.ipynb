{
 "cells": [
  {
   "cell_type": "markdown",
   "metadata": {},
   "source": [
    "# *Template*: pyODV"
   ]
  },
  {
   "cell_type": "markdown",
   "metadata": {},
   "source": [
    "---"
   ]
  },
  {
   "cell_type": "markdown",
   "metadata": {},
   "source": [
    "## Overview\n",
    "Ocean Data Viewer is a nifty piece of software for visualizing gridded data like the World Ocean Atlas. This notebook provides tips about how to make **surface** (constant depth), **section** (constant latitude or longitude), **profile** (constant longitude and latitude) plots. For each plot type there are specific instructions depending on whether latitude and longitude are vectors or arrays in your dataset."
   ]
  },
  {
   "cell_type": "markdown",
   "metadata": {},
   "source": [
    "---"
   ]
  },
  {
   "cell_type": "markdown",
   "metadata": {},
   "source": [
    "## Imports"
   ]
  },
  {
   "cell_type": "code",
   "execution_count": null,
   "metadata": {},
   "outputs": [],
   "source": [
    "%load_ext autoreload\n",
    "%autoreload 2\n",
    "\n",
    "import numpy as np\n",
    "import xarray as xr\n",
    "import os\n",
    "import pandas as pd\n",
    "import seaborn as sns\n",
    "from pathlib import Path\n",
    "\n",
    "import matplotlib.pyplot as plt\n",
    "import matplotlib as mpl\n",
    "from matplotlib import cm\n",
    "import matplotlib.gridspec as gridspec\n",
    "from matplotlib.ticker import FormatStrFormatter\n",
    "from mpl_toolkits.axes_grid1.inset_locator import inset_axes\n",
    "import cartopy\n",
    "\n",
    "import cartopy.crs as ccrs\n",
    "import cartopy.feature as cfeature\n",
    "import cartopy.util as cutil"
   ]
  },
  {
   "cell_type": "code",
   "execution_count": null,
   "metadata": {},
   "outputs": [],
   "source": [
    "lat_u = r'$^{\\circ}$N'\n",
    "lon_u = r'$^{\\circ}$E'\n",
    "depth_u = #string, e.g. 'm'\n",
    "time_u = #string, e.g. 'ky BP'\n",
    "\n",
    "surface_title = 'depth={} '+depth_u+ ', time={} '+time_u\n"
   ]
  },
  {
   "cell_type": "markdown",
   "metadata": {},
   "source": [
    "## Load Data"
   ]
  },
  {
   "cell_type": "code",
   "execution_count": null,
   "metadata": {},
   "outputs": [],
   "source": [
    "file_path = # path\n",
    "ds = xr.open_dataset(file_path, use_cftime=True)\n",
    "ds"
   ]
  },
  {
   "cell_type": "code",
   "execution_count": null,
   "metadata": {},
   "outputs": [],
   "source": [
    "lat_coord = # string\n",
    "lon_coord = # string\n",
    "depth_coord = # string"
   ]
  },
  {
   "cell_type": "code",
   "execution_count": null,
   "metadata": {},
   "outputs": [],
   "source": [
    "lon_dim = # string\n",
    "lat_dim = # string"
   ]
  },
  {
   "cell_type": "markdown",
   "metadata": {},
   "source": [
    "If your data has a time dimension, pick a snapshot of interest by specifying a time:"
   ]
  },
  {
   "cell_type": "code",
   "execution_count": null,
   "metadata": {},
   "outputs": [],
   "source": [
    "time = # float"
   ]
  },
  {
   "cell_type": "code",
   "execution_count": null,
   "metadata": {},
   "outputs": [],
   "source": [
    "snapshot_data = ds.sel(**{'time':time}, method='nearest')"
   ]
  },
  {
   "cell_type": "markdown",
   "metadata": {
    "tags": []
   },
   "source": [
    "## Surface: lon v. lat + color\n",
    "A surface plot looks the geographic distribution of some variable on a plane. Here, we'll limit our area of interest to part of the Atlantic and pick a constant depth surface."
   ]
  },
  {
   "cell_type": "code",
   "execution_count": null,
   "metadata": {},
   "outputs": [],
   "source": [
    "def between(ds, var, lims):\n",
    "    _ds = ds.where((ds.coords[var]<max(lims)) & (ds.coords[var]>min(lims)), drop=True)\n",
    "    return _ds"
   ]
  },
  {
   "cell_type": "code",
   "execution_count": null,
   "metadata": {},
   "outputs": [],
   "source": [
    "lonlims = # list of longitude bounds\n",
    "lon_ds = between(snapshot_data, lon_coord, lonlims)\n",
    "\n",
    "latlims = # list of latitude bounds\n",
    "subarea_ds = between(lon_ds, lat_coord, latlims)\n"
   ]
  },
  {
   "cell_type": "code",
   "execution_count": null,
   "metadata": {},
   "outputs": [],
   "source": [
    "var = # string\n",
    "var_units = # string\n",
    "depth = # float or int"
   ]
  },
  {
   "cell_type": "code",
   "execution_count": null,
   "metadata": {
    "tags": []
   },
   "outputs": [],
   "source": [
    "surf_ds = subarea_ds.sel(**{depth_coord:depth}, method='nearest')\n",
    "snapshot_data_surf = surf_ds[var].squeeze()\n",
    "snapshot_data_surf = c_snapshot_data_surf.compute()"
   ]
  },
  {
   "cell_type": "markdown",
   "metadata": {},
   "source": [
    "Doesn't hurt to take a quick look a the distribution of the data. Particularly given we will want to use a colorbar, it's handy to check in on the range and density of values."
   ]
  },
  {
   "cell_type": "code",
   "execution_count": null,
   "metadata": {},
   "outputs": [],
   "source": [
    "bins =surf_ds[var].compute().plot.hist()\n",
    "bin_edges = bins[1]"
   ]
  },
  {
   "cell_type": "markdown",
   "metadata": {},
   "source": [
    "And now for the plot! There aren't any raging outliers, so we'll build our color mapping based on the full range of data."
   ]
  },
  {
   "cell_type": "code",
   "execution_count": null,
   "metadata": {
    "tags": []
   },
   "outputs": [],
   "source": [
    "# establish scale\n",
    "max_lim = bin_edges[-1]#c_snapshot_data.max()\n",
    "min_lim = bin_edges[0]#c_snapshot_data.min()"
   ]
  },
  {
   "cell_type": "code",
   "execution_count": null,
   "metadata": {},
   "outputs": [],
   "source": [
    "def make_scalar_mappable(lims, cmap, n=None):\n",
    "    ax_norm = mpl.colors.Normalize(vmin=min(lims), vmax=max(lims), clip=False)\n",
    "    if type(cmap)==list:\n",
    "        if n is None:\n",
    "            ax_cmap = mpl.colors.LinearSegmentedColormap.from_list(\"MyCmapName\",cmap)\n",
    "        else:\n",
    "            ax_cmap = mpl.colors.LinearSegmentedColormap.from_list(\"MyCmapName\",cmap, N=n)\n",
    "    else:\n",
    "        if n is None:\n",
    "            ax_cmap = plt.get_cmap(cmap)\n",
    "        else:    \n",
    "            ax_cmap = plt.get_cmap(cmap, n)\n",
    "    ax_sm = cm.ScalarMappable(norm=ax_norm, cmap=ax_cmap)\n",
    "    return ax_sm"
   ]
  },
  {
   "cell_type": "code",
   "execution_count": null,
   "metadata": {},
   "outputs": [],
   "source": [
    "n_levels= 20\n",
    "ax2_levels = np.around(np.linspace(min_lim, max_lim, n_levels), decimals=4)\n",
    "# make scalar mappable\n",
    "ax2_sm = make_scalar_mappable([min_lim, max_lim],'cividis' , n_levels)\n",
    "cf2_kwargs = {'cmap':ax2_sm.cmap,'levels':ax2_levels, 'norm' : ax2_sm.norm}"
   ]
  },
  {
   "cell_type": "markdown",
   "metadata": {},
   "source": [
    "As discussed a bit in the notebook about the perils of model grids, there are a few ways to go about plotting spatial distributions. `pcolormesh` takes meshes of x and y values (in our case longitude and latitude) that underpin the data of interest (they do not need to fall on a regular rectangular grid) and interpolates between them."
   ]
  },
  {
   "cell_type": "markdown",
   "metadata": {},
   "source": [
    "### 2D lat and lon arrays\n",
    "If the latitude and longitude values are not vectors, but rather arrays, use the cell below:"
   ]
  },
  {
   "cell_type": "code",
   "execution_count": null,
   "metadata": {
    "tags": []
   },
   "outputs": [],
   "source": [
    "fig = plt.figure(figsize=(8, 4))\n",
    "# 1 row, 2 columns, .05 space between columns, 8:.3 ratio of left column to right column\n",
    "gs = gridspec.GridSpec(1, 2, wspace=0.05, width_ratios=[8, .3])\n",
    "\n",
    "# add subplot with specified map projection and coastlines (GeoAxes)\n",
    "ax2 = fig.add_subplot(gs[0, 0], projection=ccrs.Robinson(central_longitude=0))\n",
    "\n",
    "c_snapshot_data_surf.plot.pcolormesh(ax=ax2, \n",
    "                                   transform=ccrs.PlateCarree(), \n",
    "                                   x=lon_coord, y=lat_coord, \n",
    "                                   levels=ax2_levels, \n",
    "                                  cmap=cf2_kwargs['cmap'], \n",
    "                                  norm=cf2_kwargs['norm'], \n",
    "                                  add_colorbar=False);\n",
    "\n",
    "ax2.coastlines(linewidth=.5)\n",
    "ax2.add_feature(cfeature.LAND, zorder=14)\n",
    "# uncomment to constrain map scope\n",
    "# ax2.set_extent([lonlims[0]-15,lonlims[1]+15, latlims[0], latlims[1]], crs=ccrs.PlateCarree())\n",
    "\n",
    "ax2_cb = fig.add_subplot(gs[0, 1])\n",
    "cb2 = plt.colorbar(ax2_sm,cax=ax2_cb, orientation='vertical',label='{} [{}]'.format(var,var_units),\n",
    "                   format=FormatStrFormatter('%g'))\n",
    "\n",
    "ax2.set_title(surface_title.format(depth, time));"
   ]
  },
  {
   "cell_type": "markdown",
   "metadata": {},
   "source": [
    "### 1D lat and lon vectors\n",
    "If the latitude and longitude coordinates are vectors, the filled contour plot below is simpler:"
   ]
  },
  {
   "cell_type": "code",
   "execution_count": null,
   "metadata": {},
   "outputs": [],
   "source": [
    "fig = plt.figure(figsize=(8, 4))\n",
    "gs = gridspec.GridSpec(1, 2, wspace=0.05, width_ratios=[8, .3])\n",
    "\n",
    "# add subplot with specified map projection and coastlines (GeoAxes)\n",
    "ax2 = fig.add_subplot(gs[0, 0], projection=ccrs.Robinson(central_longitude=0))\n",
    "\n",
    "# place data on coordinate system with continuous x axis (longitude axis)\n",
    "tas_c, lonc = cutil.add_cyclic_point(c_snapshot_data_surf[var], c_snapshot_data_surf[lon_coord])\n",
    "# plot contourf on ax2 (geosubplot)\n",
    "cf2 = ax2.contourf(lonc,c_snapshot_data_surf[lat_coord],tas_c.squeeze(), levels=ax2_levels, \n",
    "                                  cmap=cf2_kwargs['cmap'], \n",
    "                                  norm=cf2_kwargs['norm'], \n",
    "                                   transform=ccrs.PlateCarree())\n",
    "\n",
    "ax2.add_feature(cfeature.COASTLINE, edgecolor='k',linewidth=.5)\n",
    "ax2.add_feature(cfeature.LAND, zorder=14)\n",
    "# uncomment to constrain map scope\n",
    "# ax2.set_extent([lonlims[0]-15,lonlims[1]+15, latlims[0], latlims[1]], crs=ccrs.PlateCarree())\n",
    "\n",
    "ax2_cb = fig.add_subplot(gs[0, 1])\n",
    "cb2 = plt.colorbar(ax2_sm,cax=ax2_cb, orientation='vertical',label='{} [{}]'.format(var,var_units),\n",
    "                   format=FormatStrFormatter('%g'))\n",
    "\n",
    "ax2.set_title(surface_title.format(depth, time));"
   ]
  },
  {
   "cell_type": "markdown",
   "metadata": {
    "tags": []
   },
   "source": [
    "## Section: lat or lon v. depth\n",
    "A section plot is a depth transect in which the x axis reflects a distance metric (latitude or longitude in this case), the y axis is depth with some variable plotted as color.  Here we will plot the data as a scatterplot, and then as filled contour plot. The calculations involved in producing filled contour plots require the data be more regular. because we are selecting data along a line of longitude, we can describe our coordinates with a vector of latitude values and a vector of depth values--the true tenants of a grid! \n",
    "\n",
    "As a nice bit of convenience, we introduce an inset map that makes it easier to contextualize the depth transect."
   ]
  },
  {
   "cell_type": "code",
   "execution_count": null,
   "metadata": {},
   "outputs": [],
   "source": [
    "def make_inset_map(ax, lats, lons, central_lon=0,central_lat=0):\n",
    "    axin = inset_axes(ax, width=.25*5, height=.25*5, loc=\"lower right\", \n",
    "                 axes_class=cartopy.mpl.geoaxes.GeoAxes, \n",
    "                 axes_kwargs=dict(projection=ccrs.Orthographic(central_latitude=central_lat, \n",
    "                                                               central_longitude=central_lon)))\n",
    "                                                               # central_lon)))\n",
    "\n",
    "    axin.coastlines(linewidth=.5)\n",
    "    axin.add_feature(cfeature.LAND, zorder=14)\n",
    "    axin.plot(lons, lats, transform=ccrs.PlateCarree())\n",
    "    axin.set_global()\n"
   ]
  },
  {
   "cell_type": "markdown",
   "metadata": {},
   "source": [
    "### 2D lat and lon arrays\n",
    "If the latitude and longitude values are not vectors, but rather arrays, use the cell below:"
   ]
  },
  {
   "cell_type": "code",
   "execution_count": null,
   "metadata": {},
   "outputs": [],
   "source": [
    "# if lat and lon are 2D arrays, specify longitude band\n",
    "lims = # list of longitude limits e.g., [340, 342]\n",
    "_sect_ds = between(subarea_ds, lon_coord, lims)\n",
    "sect_ds = _sect_ds[var].squeeze()\n",
    "sect_ds = sect_ds.compute()\n",
    "\n",
    "lat_lims = [min(sect_ds[lat_coord].mean(dim='nlon')), max(sect_ds[lat_coord].mean(dim='nlon'))]\n",
    "lon_lims = np.mean(lims)*np.ones(2)"
   ]
  },
  {
   "cell_type": "code",
   "execution_count": null,
   "metadata": {},
   "outputs": [],
   "source": [
    "fig = plt.figure(figsize=(9,5));\n",
    "gs = gridspec.GridSpec(1, 2, wspace=0.05, width_ratios=[8, .3])\n",
    "ax = fig.add_subplot(gs[0, 0]);\n",
    "ax.patch.set_facecolor('lightgray')\n",
    "\n",
    "ax.contourf(sect_ds[lat_coord].mean(dim=lon_dim), sect_ds.z_t_m,\n",
    "                     sect_ds.mean(dim=lon_dim).squeeze().data,10, origin='upper',\n",
    "                         levels=ax2_levels,\n",
    "                         cmap=ax2_sm.cmap, \n",
    "                        norm=ax2_sm.norm)\n",
    "\n",
    "\n",
    "ylims = ax.get_ylim()\n",
    "ax.set_ylim([ylims[1], ylims[0]])\n",
    "ax.set_ylabel('Depth [m]')\n",
    "ax.set_xlabel('Latitude [{}]'.format(lat_u))\n",
    "\n",
    "ax2_cb = fig.add_subplot(gs[0, 1])\n",
    "cb2 = plt.colorbar(ax2_sm,cax=ax2_cb, orientation='vertical',label='{} [{}]'.format(var, colorbar_units),\n",
    "                   format=FormatStrFormatter('%g'))\n",
    "\n",
    "make_inset_map(ax, lat_lims, lon_lims, central_lon=0,central_lat=0)\n",
    "ax.set_title('{}{}, time={} {}'.format(341,lon_u, time, time_u));"
   ]
  },
  {
   "cell_type": "markdown",
   "metadata": {},
   "source": [
    "### 1D lat and lon vectors\n",
    "If the latitude and longitude coordinates are vectors, the filled contour plot below is simpler:"
   ]
  },
  {
   "cell_type": "code",
   "execution_count": null,
   "metadata": {},
   "outputs": [],
   "source": [
    "# if lat and lon are vectors, specify longitude value\n",
    "lon_val = # float\n",
    "_sect_ds = subarea_ds.sel(**{lon_coord:lon_val}, method='nearest')\n",
    "\n",
    "sect_ds = _sect_ds[var].squeeze()\n",
    "sect_ds = sect_ds.compute()\n",
    "\n",
    "lat_lims = [sect_ds[lat_coord].data.min(), sect_ds[lat_coord].data.max()]\n",
    "lon_lims = lon_val*np.ones(2)"
   ]
  },
  {
   "cell_type": "code",
   "execution_count": null,
   "metadata": {},
   "outputs": [],
   "source": [
    "fig = plt.figure(figsize=(9,5));\n",
    "gs = gridspec.GridSpec(1, 2, wspace=0.05, width_ratios=[8, .3])\n",
    "ax = fig.add_subplot(gs[0, 0]);\n",
    "# background color\n",
    "ax.patch.set_facecolor('lightgray')\n",
    "\n",
    "# for scatter, because color var is an array, need to make a mesh version of x and y vars\n",
    "lat_mesh, depth_mesh = np.meshgrid(sect_ds[lat_coord], sect_ds[depth_coord])\n",
    "ax.scatter(lat_mesh,depth_mesh,\n",
    "                     c=sect_ds.squeeze().data,\n",
    "                         cmap=ax2_sm.cmap, \n",
    "                        norm=ax2_sm.norm)\n",
    "\n",
    "\n",
    "ylims = ax.get_ylim()\n",
    "ax.set_ylim([ylims[1], max([-100,ylims[0]])])\n",
    "ax.set_ylabel('Depth [m]')\n",
    "ax.set_xlabel('Latitude [{}]'.format(lat_u))\n",
    "\n",
    "ax2_cb = fig.add_subplot(gs[0, 1])\n",
    "cb2 = plt.colorbar(ax2_sm,cax=ax2_cb, orientation='vertical',label='{} [{}]'.format(var, colorbar_units),\n",
    "                   format=FormatStrFormatter('%g'))\n",
    "\n",
    "make_inset_map(ax, lat_lims, lon_lims, central_lon=0,central_lat=0)\n",
    "ax.set_title('{}{}, time={} {}'.format(lon_val,lon_u, time, time_u));"
   ]
  },
  {
   "cell_type": "markdown",
   "metadata": {},
   "source": [
    "## Profile: var 1 v. depth\n",
    "Last plot type!  We are frequently interested in how some variable changes with depth. This is a little simpler on a regular grid when it is possible to query by dimensions. Instead, we'll get as close as we can and then take the mean latitude-wise and then longitude-wise so we are left with a depth profile. "
   ]
  },
  {
   "cell_type": "markdown",
   "metadata": {},
   "source": [
    "### 2D lat and lon arrays\n",
    "If the latitude and longitude values are not vectors, but rather arrays, use the cell below:"
   ]
  },
  {
   "cell_type": "code",
   "execution_count": null,
   "metadata": {},
   "outputs": [],
   "source": [
    "lims = # longitude limits of profile area e.g., [340, 342]\n",
    "_sect_ds = between(snapshot_data, lon_coord, lims)\n",
    "lims = # latitude limits of profile area e.g., [40, 42]\n",
    "prof_reg = between(_sect_ds[var].squeeze(), lat_coord, lims)\n",
    "prof_reg = prof_reg.compute()"
   ]
  },
  {
   "cell_type": "code",
   "execution_count": null,
   "metadata": {},
   "outputs": [],
   "source": [
    "lat = prof_reg[lat_coord].mean(dim=lon_dim)\n",
    "lon = prof_reg[lon_coord].mean(dim=lat_dim)\n",
    "prof = prof_reg.mean(dim=lat_dim).mean(dim=lon_dim)\n"
   ]
  },
  {
   "cell_type": "markdown",
   "metadata": {},
   "source": [
    "### 1D lat and lon vectors\n",
    "If the latitude and longitude coordinates are vectors, the filled contour plot below is simpler:"
   ]
  },
  {
   "cell_type": "code",
   "execution_count": null,
   "metadata": {},
   "outputs": [],
   "source": [
    "prof = snapshot_data.sel(**{lat_coord:lat_val, lon_coord:lon_val}, method='nearest')\n",
    "prof = prof.compute()"
   ]
  },
  {
   "cell_type": "code",
   "execution_count": null,
   "metadata": {},
   "outputs": [],
   "source": [
    "prof_df = pd.DataFrame({'values': prof.data, 'label': ['prof_1' for ik in range(len(prof.data))], 'depth': prof[depth_coord].data})"
   ]
  },
  {
   "cell_type": "code",
   "execution_count": null,
   "metadata": {},
   "outputs": [],
   "source": [
    "fig = plt.figure(figsize=(3,6));\n",
    "ax = fig.add_subplot();\n",
    "\n",
    "ax.plot('values', 'depth', data=prof_df)\n",
    "ax.invert_yaxis()\n",
    "ax.set_ylabel('depth [m]')\n",
    "ax.set_xlabel('{} [{}]'.format(var, colorbar_unit))"
   ]
  },
  {
   "cell_type": "markdown",
   "metadata": {},
   "source": [
    "---"
   ]
  }
 ],
 "metadata": {
  "kernelspec": {
   "display_name": "Python [conda env:paleobook-dev]",
   "language": "python",
   "name": "conda-env-paleobook-dev-py"
  },
  "language_info": {
   "codemirror_mode": {
    "name": "ipython",
    "version": 3
   },
   "file_extension": ".py",
   "mimetype": "text/x-python",
   "name": "python",
   "nbconvert_exporter": "python",
   "pygments_lexer": "ipython3",
   "version": "3.10.10"
  },
  "nbdime-conflicts": {
   "local_diff": [
    {
     "diff": [
      {
       "diff": [
        {
         "key": 0,
         "op": "addrange",
         "valuelist": [
          "Python 3"
         ]
        },
        {
         "key": 0,
         "length": 1,
         "op": "removerange"
        }
       ],
       "key": "display_name",
       "op": "patch"
      }
     ],
     "key": "kernelspec",
     "op": "patch"
    }
   ],
   "remote_diff": [
    {
     "diff": [
      {
       "diff": [
        {
         "key": 0,
         "op": "addrange",
         "valuelist": [
          "Python3"
         ]
        },
        {
         "key": 0,
         "length": 1,
         "op": "removerange"
        }
       ],
       "key": "display_name",
       "op": "patch"
      }
     ],
     "key": "kernelspec",
     "op": "patch"
    }
   ]
  },
  "toc-autonumbering": false
 },
 "nbformat": 4,
 "nbformat_minor": 4
}
